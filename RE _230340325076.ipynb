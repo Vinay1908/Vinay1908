{
 "cells": [
  {
   "cell_type": "markdown",
   "id": "12555bc5",
   "metadata": {},
   "source": [
    "#  Section 1"
   ]
  },
  {
   "cell_type": "markdown",
   "id": "6933a1b2",
   "metadata": {},
   "source": [
    "1. Write a Python program to Reverse words in a given String in Python(without inbuilt function)\n",
    " Input:\n",
    "● ReExam question paper\n",
    " Output:\n",
    "● paper question ReExam"
   ]
  },
  {
   "cell_type": "code",
   "execution_count": 33,
   "id": "c5872ecf",
   "metadata": {},
   "outputs": [
    {
     "name": "stdout",
     "output_type": "stream",
     "text": [
      "repap noitseuq maxE\n"
     ]
    }
   ],
   "source": [
    "\n",
    "s='ReExam question paper'\n",
    "rev_str=''\n",
    "\n",
    "for i in range(len(s)-1,1,-1):\n",
    "    rev_str+=s[i]\n",
    "    \n",
    "print(rev_str)    "
   ]
  },
  {
   "cell_type": "code",
   "execution_count": 11,
   "id": "78541d3f",
   "metadata": {},
   "outputs": [
    {
     "name": "stdout",
     "output_type": "stream",
     "text": [
      "The output for the first list is: [24, 35, 9, 56, 12]\n",
      "The output for the second list is: [3, 2, 1]\n"
     ]
    }
   ],
   "source": [
    "#2. Write a Python Program to interchange first and last elements in a list\n",
    "\n",
    "#Input : [12, 35, 9, 56,12]\n",
    "#Output : [24, 35, 9, 56, 12]\n",
    "\n",
    "#Input : [1, 2, 3]\n",
    "#Output : [3, 2, 1]\n",
    "\n",
    "###################################################\n",
    "\n",
    "def swap(L1):\n",
    "    size = len(L1)\n",
    "    temp = L1[0]\n",
    "    L1[0] = L1[size - 1]\n",
    "    L1[size - 1] = temp\n",
    "    return L1\n",
    "input1 = [12, 35, 9, 56, 24]\n",
    "input2=[1,2,3]\n",
    "print(\"The output for the first list is:\",swap(input1))\n",
    "print(\"The output for the second list is:\",swap(input2))"
   ]
  },
  {
   "cell_type": "code",
   "execution_count": 22,
   "id": "2937e6a3",
   "metadata": {},
   "outputs": [
    {
     "name": "stdout",
     "output_type": "stream",
     "text": [
      "['Vinay', 'Kalpita', 'Vishwajeet']\n"
     ]
    }
   ],
   "source": [
    "#3. Suppose you have a list of dictionaries where each dictionary contains information about\n",
    "#a person such as name, age, and address. Write a Python code to create a new list that\n",
    "#contains only the names of the people in the list.\n",
    "\n",
    "#students_list = [{'Name': 'Vinay', 'Age': 25, 'Address': 'Kalyan'},{'Name': 'Kalpita', 'Age': 25, 'Address': 'Bandra'},\n",
    "#              {'Name': 'Vishwajeet', 'Age': 25, 'Address': 'Virar'}]\n",
    "\n",
    "\n",
    "###############################################################\n",
    "\n",
    "def names(students_list):\n",
    "\n",
    "  new_list = []\n",
    "  for person in students_list:\n",
    "    new_list.append(person['Name'])\n",
    "\n",
    "  return new_list\n",
    "\n",
    "\n",
    "students_list = [{'Name': 'Vinay', 'Age': 25, 'Address': 'Kalyan'},\n",
    "              {'Name': 'Kalpita', 'Age': 25, 'Address': 'Bandra'},\n",
    "              {'Name': 'Vishwajeet', 'Age': 25, 'Address': 'Virar'}]\n",
    "\n",
    "new_list = names(students_list)\n",
    "\n",
    "print(new_list)"
   ]
  },
  {
   "cell_type": "markdown",
   "id": "9d231ef3",
   "metadata": {},
   "source": [
    "# Section 2"
   ]
  },
  {
   "cell_type": "markdown",
   "id": "ca017da0",
   "metadata": {},
   "source": [
    "1. Create a class Shape with attributes color and methods set_color() and get_color(). Create\n",
    "a subclass Circle that inherits from Shape and adds the attribute radius and methods\n",
    "calculate_area() and calculate_circumference(). Create objects of both the classes and\n",
    "demonstrate the use of all the methods."
   ]
  },
  {
   "cell_type": "code",
   "execution_count": 32,
   "id": "cafc5bee",
   "metadata": {},
   "outputs": [
    {
     "name": "stdout",
     "output_type": "stream",
     "text": [
      "Shape color: White\n",
      "Circle colour is: Red\n",
      "Circle radius is : 7\n",
      "Circle circumference is : 43.98226\n",
      "Circle area is : 153.93791\n",
      "Circle color after setting will be: Chrome\n",
      "Shape color after setting will be: White\n"
     ]
    }
   ],
   "source": [
    "\n",
    "\n",
    "\n",
    "class Shape:\n",
    "    def __init__(self, color):\n",
    "        self.color = color\n",
    "    def set_color(self, color):\n",
    "        self.color = color\n",
    "    def get_color(self):\n",
    "        return self.color\n",
    "\n",
    "class Circle(Shape):\n",
    "    def __init__(self, color, radius):\n",
    "        super().__init__(color)\n",
    "        self.radius = radius\n",
    "    def calculate_area(self):\n",
    "        return 3.14159 * self.radius * self.radius\n",
    "    def circumference(self):\n",
    "        return 2 * 3.14159 * self.radius\n",
    "\n",
    "shape = Shape(\"White\")\n",
    "print(\"Shape color:\", shape.get_color())\n",
    "\n",
    "circle = Circle(\"Red\", 7)\n",
    "print(\"Circle colour is:\", circle.get_color())\n",
    "print(\"Circle radius is :\", circle.radius)\n",
    "print(\"Circle circumference is :\", circle.circumference())\n",
    "print(\"Circle area is :\", circle.calculate_area())\n",
    "\n",
    "\n",
    "shape.set_color(\"White\")\n",
    "circle.set_color(\"Chrome\")\n",
    "\n",
    "print(\"Circle color after setting will be:\", circle.get_color())\n",
    "print(\"Shape color after setting will be:\", shape.get_color())\n"
   ]
  },
  {
   "cell_type": "markdown",
   "id": "30e9595e",
   "metadata": {},
   "source": [
    " Q2. Create a class Person with attributes name, age, and gender, and methods get_name(),\n",
    "get_age(), get_gender(), and introduce(). Create a subclass Student that inherits from\n",
    " Person and adds the attribute grade, and method study(). Create objects of both the\n",
    " classes and demonstrate the use of all the methods."
   ]
  },
  {
   "cell_type": "code",
   "execution_count": 30,
   "id": "643bc881",
   "metadata": {},
   "outputs": [
    {
     "name": "stdout",
     "output_type": "stream",
     "text": [
      "('Jai Shree Ram, I am ', 'Salman', 'a', 28, ' years old ', 'Male')\n",
      "Abdul  is  18 years old.\n",
      "Abdul  is a  Male\n",
      "('Jai Shree Ram, I am ', 'Abdul', 'a', 18, ' years old ', 'Male')\n",
      "('Abdul', ' is studying hard for their ', '12th', ' grade.')\n"
     ]
    }
   ],
   "source": [
    "\n",
    "\n",
    "\n",
    "class Person:\n",
    "    def __init__(self, name, age, gender):\n",
    "        self.name = name\n",
    "        self.age = age\n",
    "        self.gender = gender\n",
    "\n",
    "    def get_name(self):\n",
    "        return self.name\n",
    "\n",
    "    def get_age(self):\n",
    "        return self.age\n",
    "\n",
    "    def get_gender(self):\n",
    "        return self.gender\n",
    "\n",
    "    def introduce(self):\n",
    "        return \"Jai Shree Ram, I am \",self.name, \"a\" , self.age,\" years old \", self.gender\n",
    "\n",
    "class Student(Person):\n",
    "    def __init__(self, name, age, gender, grade):\n",
    "        super().__init__(name, age, gender)\n",
    "        self.grade = grade\n",
    "\n",
    "    def study(self):\n",
    "        return self.name, \" is studying hard for their \", self.grade, \" grade.\"\n",
    "\n",
    "\n",
    "p1 = Person(\"Salman\", 28, \"Male\") # Creating objects for person\n",
    "\n",
    "stud1 = Student(\"Abdul\", 18, \"Male\", \"12th\") # Creating objects for student.\n",
    "\n",
    "# Using print methods\n",
    "print(p1.introduce())\n",
    "print(stud1.get_name(),  \" is \", stud1.get_age(), \"years old.\")\n",
    "print(stud1.get_name(), \" is a \", stud1.get_gender())\n",
    "print(stud1.introduce())\n",
    "print(stud1.study())"
   ]
  },
  {
   "cell_type": "code",
   "execution_count": null,
   "id": "1763769b",
   "metadata": {},
   "outputs": [],
   "source": []
  },
  {
   "cell_type": "code",
   "execution_count": null,
   "id": "c593bffa",
   "metadata": {},
   "outputs": [],
   "source": []
  },
  {
   "cell_type": "code",
   "execution_count": null,
   "id": "3cf4e17f",
   "metadata": {},
   "outputs": [],
   "source": []
  },
  {
   "cell_type": "code",
   "execution_count": null,
   "id": "59cce998",
   "metadata": {},
   "outputs": [],
   "source": []
  },
  {
   "cell_type": "code",
   "execution_count": null,
   "id": "380b4f2f",
   "metadata": {},
   "outputs": [],
   "source": []
  },
  {
   "cell_type": "code",
   "execution_count": null,
   "id": "9de8cfa3",
   "metadata": {},
   "outputs": [],
   "source": []
  },
  {
   "cell_type": "code",
   "execution_count": null,
   "id": "efb5d625",
   "metadata": {},
   "outputs": [],
   "source": []
  },
  {
   "cell_type": "code",
   "execution_count": null,
   "id": "576d44b0",
   "metadata": {},
   "outputs": [],
   "source": []
  },
  {
   "cell_type": "code",
   "execution_count": null,
   "id": "17c9b580",
   "metadata": {},
   "outputs": [],
   "source": []
  },
  {
   "cell_type": "code",
   "execution_count": null,
   "id": "b29c2bdf",
   "metadata": {},
   "outputs": [],
   "source": []
  },
  {
   "cell_type": "code",
   "execution_count": null,
   "id": "5c08500f",
   "metadata": {},
   "outputs": [],
   "source": []
  },
  {
   "cell_type": "code",
   "execution_count": null,
   "id": "f10ada86",
   "metadata": {},
   "outputs": [],
   "source": []
  }
 ],
 "metadata": {
  "kernelspec": {
   "display_name": "Python 3 (ipykernel)",
   "language": "python",
   "name": "python3"
  },
  "language_info": {
   "codemirror_mode": {
    "name": "ipython",
    "version": 3
   },
   "file_extension": ".py",
   "mimetype": "text/x-python",
   "name": "python",
   "nbconvert_exporter": "python",
   "pygments_lexer": "ipython3",
   "version": "3.9.13"
  }
 },
 "nbformat": 4,
 "nbformat_minor": 5
}
